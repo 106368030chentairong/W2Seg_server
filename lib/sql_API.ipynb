{
 "cells": [
  {
   "cell_type": "code",
   "execution_count": 128,
   "metadata": {},
   "outputs": [],
   "source": [
    "import psycopg2\n",
    "conn = psycopg2.connect(database=\"d4dv34dbvjjebc\",\n",
    "\t\t\t\t\t\tuser=\"xfbufavhetsiza\",\n",
    "\t\t\t\t\t\tpassword=\"b6d5807952f7033be5f26b4fb48f0166fe1b2a888f443634c3cf322971534814\",\n",
    "\t\t\t\t\t\thost=\"ec2-54-87-179-4.compute-1.amazonaws.com\",\n",
    "\t\t\t\t\t\tport=\"5432\",\n",
    "\t\t\t\t\t\tconnect_timeout=3)\n",
    "cursor = conn.cursor()"
   ]
  },
  {
   "cell_type": "code",
   "execution_count": 111,
   "metadata": {},
   "outputs": [],
   "source": [
    "#CREATE table \n",
    "cursor.execute(\"CREATE TABLE userdata (id serial PRIMARY KEY, name VARCHAR(50), userid VARCHAR(50));\")"
   ]
  },
  {
   "cell_type": "code",
   "execution_count": 123,
   "metadata": {},
   "outputs": [],
   "source": [
    "# Update a data row in the table\n",
    "for index in range(10):\n",
    "    cursor.execute(\"INSERT INTO userdata (name, userid) VALUES (%s, %s);\", (\"tairong3\", \"asdf123123123123234\"))"
   ]
  },
  {
   "cell_type": "code",
   "execution_count": 60,
   "metadata": {},
   "outputs": [],
   "source": [
    "# Update a data row in the table\n",
    "cursor.execute(\"UPDATE userdata SET name = %s WHERE userid = %s;\", (\"test\", \"banana\"))"
   ]
  },
  {
   "cell_type": "code",
   "execution_count": 83,
   "metadata": {},
   "outputs": [],
   "source": [
    "# Delete data row from table\n",
    "cursor.execute(\"DELETE FROM userdata WHERE name = %s;\", (\"tairong3\",))"
   ]
  },
  {
   "cell_type": "code",
   "execution_count": 130,
   "metadata": {},
   "outputs": [
    {
     "data": {
      "text/plain": [
       "1550"
      ]
     },
     "execution_count": 130,
     "metadata": {},
     "output_type": "execute_result"
    }
   ],
   "source": [
    "# Fetch all rows from table\n",
    "cursor.execute(\"SELECT * FROM userdata;\")\n",
    "len(cursor.fetchall())"
   ]
  },
  {
   "cell_type": "code",
   "execution_count": 126,
   "metadata": {},
   "outputs": [],
   "source": [
    "# Clean up\n",
    "conn.commit()\n",
    "cursor.close()\n",
    "conn.close()"
   ]
  }
 ],
 "metadata": {
  "kernelspec": {
   "display_name": "Python 3.9.13 64-bit",
   "language": "python",
   "name": "python3"
  },
  "language_info": {
   "codemirror_mode": {
    "name": "ipython",
    "version": 3
   },
   "file_extension": ".py",
   "mimetype": "text/x-python",
   "name": "python",
   "nbconvert_exporter": "python",
   "pygments_lexer": "ipython3",
   "version": "3.9.13"
  },
  "orig_nbformat": 4,
  "vscode": {
   "interpreter": {
    "hash": "aee8b7b246df8f9039afb4144a1f6fd8d2ca17a180786b69acc140d282b71a49"
   }
  }
 },
 "nbformat": 4,
 "nbformat_minor": 2
}
