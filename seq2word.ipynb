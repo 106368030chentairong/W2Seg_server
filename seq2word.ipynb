{
 "cells": [
  {
   "cell_type": "code",
   "execution_count": 1,
   "metadata": {},
   "outputs": [
    {
     "name": "stderr",
     "output_type": "stream",
     "text": [
      "/usr/local/lib/python3.9/site-packages/requests/__init__.py:109: RequestsDependencyWarning: urllib3 (1.26.8) or chardet (2.0.3)/charset_normalizer (2.0.9) doesn't match a supported version!\n",
      "  warnings.warn(\n"
     ]
    }
   ],
   "source": [
    "from ckip_transformers.nlp import CkipWordSegmenter, CkipPosTagger, CkipNerChunker\n",
    "\n",
    "class w2seq():\n",
    "    def __init__(self):\n",
    "        self.ws_driver = None\n",
    "        self.pos_driver = None\n",
    "        self.ner_driver = None\n",
    "\n",
    "    def setup(self):\n",
    "        # Initialize drivers\n",
    "        self.ws_driver  = CkipWordSegmenter(model=\"albert-base\")\n",
    "        self.pos_driver = CkipPosTagger(model=\"albert-base\")\n",
    "        self.ner_driver = CkipNerChunker(model=\"albert-base\")\n",
    "        # Use GPU:0\n",
    "        #ws_driver = CkipWordSegmenter(device=0)\n",
    "    def run(self, word):\n",
    "        # Run pipeline\n",
    "        ws  = self.ws_driver(word)\n",
    "        pos = self.pos_driver(ws)\n",
    "        ner = self.ner_driver(word)\n",
    "        return [ws,pos,ner]\n"
   ]
  },
  {
   "cell_type": "code",
   "execution_count": 2,
   "metadata": {},
   "outputs": [
    {
     "name": "stderr",
     "output_type": "stream",
     "text": [
      "Tokenization: 100%|██████████| 1/1 [00:00<00:00, 839.03it/s]\n",
      "Inference: 100%|██████████| 1/1 [00:00<00:00,  2.74it/s]\n",
      "Tokenization: 100%|██████████| 1/1 [00:00<00:00, 2725.34it/s]\n",
      "Inference: 100%|██████████| 1/1 [00:00<00:00,  1.26it/s]\n",
      "Tokenization: 100%|██████████| 1/1 [00:00<00:00, 2032.12it/s]\n",
      "Inference: 100%|██████████| 1/1 [00:00<00:00,  2.89it/s]\n"
     ]
    }
   ],
   "source": [
    "w2seq_mode = w2seq()\n",
    "w2seq_mode.setup()\n"
   ]
  },
  {
   "cell_type": "code",
   "execution_count": 4,
   "metadata": {},
   "outputs": [
    {
     "name": "stderr",
     "output_type": "stream",
     "text": [
      "Tokenization: 100%|██████████| 1/1 [00:00<00:00, 3426.72it/s]\n",
      "Inference: 100%|██████████| 1/1 [00:00<00:00,  2.35it/s]\n",
      "Tokenization: 100%|██████████| 1/1 [00:00<00:00, 3949.44it/s]\n",
      "Inference: 100%|██████████| 1/1 [00:00<00:00,  1.05it/s]\n",
      "Tokenization: 100%|██████████| 1/1 [00:00<00:00, 2016.49it/s]\n",
      "Inference: 100%|██████████| 1/1 [00:00<00:00,  2.94it/s]"
     ]
    },
    {
     "name": "stdout",
     "output_type": "stream",
     "text": [
      "[[['猴痘', '病例數', '激增', '，', '世衛', '秘書長', '譚德塞', '（', 'Tedros', ' Adhanom', ' Ghebreyesus', '）', '今天', '在', '日內瓦', '召集', '專家', '再次', '根據', '國際', '衛生', '條例', '（', 'IHR', '）', '召開', '緊急', '委員', '會議', '，', '在', '記者會', '上', '宣布', '接受', '委員會', '專家', '建議', '，', '宣布', '猴痘', '疫情', '構成', '「', '國際', '關注', '公共', '衛生', '緊急', '事件', '」', '（', 'PHEIC', '）', '，', ' ', '也', '就', '是', '世衛', '的', '最', '高', '警戒', '層級', '。']], [['Na', 'Na', 'VH', 'COMMACATEGORY', 'Nb', 'Na', 'Nb', 'PARENTHESISCATEGORY', 'FW', 'FW', 'FW', 'PARENTHESISCATEGORY', 'Nd', 'P', 'Nc', 'VC', 'Na', 'D', 'P', 'Nc', 'Na', 'Na', 'PARENTHESISCATEGORY', 'FW', 'PARENTHESISCATEGORY', 'VC', 'VH', 'Na', 'Na', 'COMMACATEGORY', 'P', 'Na', 'Ng', 'VE', 'VC', 'Nc', 'Na', 'VE', 'COMMACATEGORY', 'VE', 'Na', 'Na', 'VG', 'PARENTHESISCATEGORY', 'Nc', 'VJ', 'A', 'Na', 'VH', 'Na', 'PARENTHESISCATEGORY', 'PARENTHESISCATEGORY', 'FW', 'PARENTHESISCATEGORY', 'COMMACATEGORY', 'WHITESPACE', 'D', 'D', 'SHI', 'Nb', 'DE', 'Dfa', 'VH', 'VA', 'Na', 'PERIODCATEGORY']], [[NerToken(word='世衛', ner='ORG', idx=(8, 10)), NerToken(word='譚德塞', ner='PERSON', idx=(13, 16)), NerToken(word='今天', ner='DATE', idx=(44, 46)), NerToken(word='日內瓦', ner='GPE', idx=(47, 50)), NerToken(word='世衛', ner='ORG', idx=(129, 131))]]]\n"
     ]
    },
    {
     "name": "stderr",
     "output_type": "stream",
     "text": [
      "\n"
     ]
    }
   ],
   "source": [
    "word = \"猴痘病例數激增，世衛秘書長譚德塞（Tedros Adhanom Ghebreyesus）今天在日內瓦召集專家再次根據國際衛生條例（IHR）召開緊急委員會議，在記者會上宣布接受委員會專家建議，宣布猴痘疫情構成「國際關注公共衛生緊急事件」（PHEIC）， 也就是世衛的最高警戒層級。\"\n",
    "sentence = w2seq_mode.run([word])\n",
    "print(sentence)"
   ]
  },
  {
   "cell_type": "code",
   "execution_count": 35,
   "metadata": {},
   "outputs": [
    {
     "data": {
      "text/plain": [
       "('高', 'VH')"
      ]
     },
     "execution_count": 35,
     "metadata": {},
     "output_type": "execute_result"
    }
   ],
   "source": [
    "sentence[0][0][-4] , sentence[1][0][-4]"
   ]
  },
  {
   "cell_type": "code",
   "execution_count": 1,
   "metadata": {},
   "outputs": [
    {
     "ename": "NameError",
     "evalue": "name 'sentence' is not defined",
     "output_type": "error",
     "traceback": [
      "\u001b[0;31m---------------------------------------------------------------------------\u001b[0m",
      "\u001b[0;31mNameError\u001b[0m                                 Traceback (most recent call last)",
      "\u001b[1;32m/Users/tairong/Desktop/Code/W2Seg_server/seq2word.ipynb Cell 5\u001b[0m in \u001b[0;36m<cell line: 3>\u001b[0;34m()\u001b[0m\n\u001b[1;32m      <a href='vscode-notebook-cell:/Users/tairong/Desktop/Code/W2Seg_server/seq2word.ipynb#ch0000004?line=0'>1</a>\u001b[0m tmp \u001b[39m=\u001b[39m []\n\u001b[1;32m      <a href='vscode-notebook-cell:/Users/tairong/Desktop/Code/W2Seg_server/seq2word.ipynb#ch0000004?line=1'>2</a>\u001b[0m ner_in \u001b[39m=\u001b[39m [\u001b[39m\"\u001b[39m\u001b[39mCOMMACATEGORY\u001b[39m\u001b[39m\"\u001b[39m , \u001b[39m\"\u001b[39m\u001b[39mNd\u001b[39m\u001b[39m\"\u001b[39m,\u001b[39m\"\u001b[39m\u001b[39mNg\u001b[39m\u001b[39m\"\u001b[39m,\u001b[39m\"\u001b[39m\u001b[39mSHI\u001b[39m\u001b[39m\"\u001b[39m,\u001b[39m\"\u001b[39m\u001b[39mVH\u001b[39m\u001b[39m\"\u001b[39m,\u001b[39m\"\u001b[39m\u001b[39mDE\u001b[39m\u001b[39m\"\u001b[39m, \u001b[39m\"\u001b[39m\u001b[39mP\u001b[39m\u001b[39m\"\u001b[39m ,\u001b[39m\"\u001b[39m\u001b[39mPARENTHESISCATEGORY\u001b[39m\u001b[39m\"\u001b[39m, \u001b[39m\"\u001b[39m\u001b[39mPERIODCATEGORY\u001b[39m\u001b[39m\"\u001b[39m, \u001b[39m\"\u001b[39m\u001b[39mDfa\u001b[39m\u001b[39m\"\u001b[39m, \u001b[39m\"\u001b[39m\u001b[39mD\u001b[39m\u001b[39m\"\u001b[39m, \u001b[39m\"\u001b[39m\u001b[39mWHITESPACE\u001b[39m\u001b[39m\"\u001b[39m]\n\u001b[0;32m----> <a href='vscode-notebook-cell:/Users/tairong/Desktop/Code/W2Seg_server/seq2word.ipynb#ch0000004?line=2'>3</a>\u001b[0m \u001b[39mfor\u001b[39;00m index, pos \u001b[39min\u001b[39;00m \u001b[39menumerate\u001b[39m(sentence[\u001b[39m1\u001b[39m][\u001b[39m0\u001b[39m]):\n\u001b[1;32m      <a href='vscode-notebook-cell:/Users/tairong/Desktop/Code/W2Seg_server/seq2word.ipynb#ch0000004?line=3'>4</a>\u001b[0m     \u001b[39mif\u001b[39;00m pos \u001b[39mnot\u001b[39;00m \u001b[39min\u001b[39;00m ner_in:\n\u001b[1;32m      <a href='vscode-notebook-cell:/Users/tairong/Desktop/Code/W2Seg_server/seq2word.ipynb#ch0000004?line=4'>5</a>\u001b[0m         tmp\u001b[39m.\u001b[39mappend([sentence[\u001b[39m0\u001b[39m][\u001b[39m0\u001b[39m][index], pos])\n",
      "\u001b[0;31mNameError\u001b[0m: name 'sentence' is not defined"
     ]
    }
   ],
   "source": [
    "tmp = []\n",
    "ner_in = [\"COMMACATEGORY\" , \"Nd\",\"Ng\",\"SHI\",\"VH\",\"DE\", \"P\" ,\"PARENTHESISCATEGORY\", \"PERIODCATEGORY\", \"Dfa\", \"D\", \"WHITESPACE\"]\n",
    "for index, pos in enumerate(sentence[1][0]):\n",
    "    if pos not in ner_in:\n",
    "        tmp.append([sentence[0][0][index], pos])\n",
    "        #print(sentence[0][0][index], pos)\n",
    "print(tmp)"
   ]
  }
 ],
 "metadata": {
  "kernelspec": {
   "display_name": "Python 3.9.13 64-bit",
   "language": "python",
   "name": "python3"
  },
  "language_info": {
   "codemirror_mode": {
    "name": "ipython",
    "version": 3
   },
   "file_extension": ".py",
   "mimetype": "text/x-python",
   "name": "python",
   "nbconvert_exporter": "python",
   "pygments_lexer": "ipython3",
   "version": "3.9.13"
  },
  "orig_nbformat": 4,
  "vscode": {
   "interpreter": {
    "hash": "aee8b7b246df8f9039afb4144a1f6fd8d2ca17a180786b69acc140d282b71a49"
   }
  }
 },
 "nbformat": 4,
 "nbformat_minor": 2
}
